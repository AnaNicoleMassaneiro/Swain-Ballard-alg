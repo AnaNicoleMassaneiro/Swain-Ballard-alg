{
 "cells": [
  {
   "cell_type": "code",
   "execution_count": 20,
   "id": "d305de65-c3ca-4868-a004-2a88830bde85",
   "metadata": {},
   "outputs": [],
   "source": [
    "import cv2\n",
    "import numpy as np\n",
    "import matplotlib.pyplot as plt"
   ]
  },
  {
   "cell_type": "code",
   "execution_count": 21,
   "id": "4df77301-1afa-4963-8256-49096a4b0d8a",
   "metadata": {},
   "outputs": [],
   "source": [
    "img = cv2.imread(\"caneca1.jpeg\") "
   ]
  },
  {
   "cell_type": "code",
   "execution_count": 22,
   "id": "a26f5ae9-93e3-4b89-a1e7-a0a9c32324a8",
   "metadata": {},
   "outputs": [],
   "source": [
    "gray = cv2.cvtColor(img, cv2.COLOR_BGR2GRAY)"
   ]
  },
  {
   "cell_type": "code",
   "execution_count": 23,
   "id": "b2050798-3725-49be-a8b2-90336b4d1509",
   "metadata": {},
   "outputs": [],
   "source": [
    "color_window = 50\n",
    "texture_window = 10"
   ]
  },
  {
   "cell_type": "code",
   "execution_count": null,
   "id": "ac2c5336-cf26-4f88-8331-4c23a2f91580",
   "metadata": {},
   "outputs": [],
   "source": [
    "objects = np.zeros_like(gray)\n",
    "\n",
    "for i in range(gray.shape[0]):\n",
    "    for j in range(gray.shape[1]):\n",
    "        # Define as janelas de cor e textura\n",
    "        color_min = max(0, i - color_window)\n",
    "        color_max = min(gray.shape[0], i + color_window)\n",
    "        texture_min = max(0, j - texture_window)\n",
    "        texture_max = min(gray.shape[1], j + texture_window)\n",
    "\n",
    "        # Calcula a média e variância da cor e textura nas janelas definidas\n",
    "        color_mean = np.mean(gray[color_min:color_max, texture_min:texture_max])\n",
    "        color_var = np.var(gray[color_min:color_max, texture_min:texture_max])\n",
    "        texture_mean = np.mean(gray[color_min:color_max, texture_min:texture_max])\n",
    "        texture_var = np.var(gray[color_min:color_max, texture_min:texture_max])\n",
    "\n",
    "        # Verifica se o pixel pertence a um objeto\n",
    "        if (abs(gray[i,j] - color_mean) < color_window) and (abs(np.var(gray[color_min:color_max, texture_min:texture_max]) - texture_var) < texture_window):\n",
    "            objects[i,j] = 255"
   ]
  },
  {
   "cell_type": "code",
   "execution_count": null,
   "id": "58835e41-383b-4d40-af90-d3189923eb72",
   "metadata": {},
   "outputs": [],
   "source": [
    "plt.subplot(1,2,1)\n",
    "plt.imshow(cv2.cvtColor(img, cv2.COLOR_BGR2RGB))\n",
    "plt.title(\"Imagem original\")"
   ]
  },
  {
   "cell_type": "code",
   "execution_count": null,
   "id": "bfadcdc1-b103-484d-a39f-5c7d24caeae5",
   "metadata": {},
   "outputs": [],
   "source": [
    "plt.subplot(1,2,2)\n",
    "plt.imshow(objects, cmap=\"gray\")\n",
    "plt.title(\"Imagem segmentada\")\n",
    "\n",
    "plt.show()"
   ]
  },
  {
   "cell_type": "code",
   "execution_count": null,
   "id": "0464565d-f9ff-42ec-a5cd-d1f09e71cc3a",
   "metadata": {},
   "outputs": [],
   "source": []
  }
 ],
 "metadata": {
  "kernelspec": {
   "display_name": "Python 3 (ipykernel)",
   "language": "python",
   "name": "python3"
  },
  "language_info": {
   "codemirror_mode": {
    "name": "ipython",
    "version": 3
   },
   "file_extension": ".py",
   "mimetype": "text/x-python",
   "name": "python",
   "nbconvert_exporter": "python",
   "pygments_lexer": "ipython3",
   "version": "3.10.9"
  }
 },
 "nbformat": 4,
 "nbformat_minor": 5
}
