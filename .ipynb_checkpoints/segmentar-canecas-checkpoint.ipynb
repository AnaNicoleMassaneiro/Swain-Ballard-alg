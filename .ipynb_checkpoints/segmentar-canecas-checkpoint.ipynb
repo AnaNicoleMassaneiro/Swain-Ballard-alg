{
 "cells": [
  {
   "cell_type": "code",
   "execution_count": null,
   "id": "e91640b4-f4db-4390-940f-d596c58fcbc4",
   "metadata": {},
   "outputs": [],
   "source": [
    "import cv2\n",
    "import numpy as np\n",
    "import matplotlib.pyplot as plt"
   ]
  },
  {
   "cell_type": "code",
   "execution_count": null,
   "id": "821a00f4-16de-40a5-86a4-e63ae4e7aea1",
   "metadata": {},
   "outputs": [],
   "source": [
    "def segmentar_canecas(img):\n",
    "    # Converte para escala de cinza\n",
    "    gray = cv2.cvtColor(img, cv2.COLOR_BGR2GRAY)\n",
    "\n",
    "    # Define os parâmetros do algoritmo\n",
    "    color_window = 50\n",
    "    texture_window = 10\n",
    "\n",
    "    # Segmenta os objetos na imagem\n",
    "    objects = np.zeros_like(gray)\n",
    "\n",
    "    for i in range(gray.shape[0]):\n",
    "        for j in range(gray.shape[1]):\n",
    "            # Define as janelas de cor e textura\n",
    "            color_min = max(0, i - color_window)\n",
    "            color_max = min(gray.shape[0], i + color_window)\n",
    "            texture_min = max(0, j - texture_window)\n",
    "            texture_max = min(gray.shape[1], j + texture_window)\n",
    "\n",
    "            # Calcula a média e variância da cor e textura nas janelas definidas\n",
    "            color_mean = np.mean(gray[color_min:color_max, texture_min:texture_max])\n",
    "            color_var = np.var(gray[color_min:color_max, texture_min:texture_max])\n",
    "            texture_mean = np.mean(gray[color_min:color_max, texture_min:texture_max])\n",
    "            texture_var = np.var(gray[color_min:color_max, texture_min:texture_max])\n",
    "\n",
    "            # Verifica se o pixel pertence a um objeto\n",
    "            if (abs(gray[i,j] - color_mean) < color_window) and (abs(np.var(gray[color_min:color_max, texture_min:texture_max]) - texture_var) < texture_window):\n",
    "                objects[i,j] = 255\n",
    "\n",
    "    return objects"
   ]
  },
  {
   "cell_type": "code",
   "execution_count": null,
   "id": "9248ff6b-1967-4a01-8644-834b04142ff9",
   "metadata": {},
   "outputs": [],
   "source": [
    "img1 = cv2.imread(\"caneca1.jpg\")\n",
    "img2 = cv2.imread(\"caneca2.jpg\")\n",
    "img3 = cv2.imread(\"caneca3.jpg\")\n",
    "img4 = cv2.imread(\"caneca4.jpg\")\n",
    "img5 = cv2.imread(\"caneca5.jpg\")\n",
    "\n",
    "# Segmenta as canecas nas imagens\n",
    "canecas1 = segmentar_canecas(img1)\n",
    "canecas2 = segmentar_canecas(img2)\n",
    "canecas3 = segmentar_canecas(img3)\n",
    "canecas4 = segmentar_canecas(img4)\n",
    "canecas5 = segmentar_canecas(img5)"
   ]
  },
  {
   "cell_type": "code",
   "execution_count": null,
   "id": "e28f2ade-043d-4539-b91f-6bf8f844b4fc",
   "metadata": {},
   "outputs": [],
   "source": [
    "plt.subplot(2,3,1)\n",
    "plt.imshow(cv2.cvtColor(img1, cv2.COLOR_BGR2RGB))\n",
    "plt.title(\"Imagem original\")\n",
    "plt.subplot(2,3,2)\n",
    "plt.imshow(canecas1, cmap=\"gray\")\n",
    "plt.title(\"Canecas segmentadas\")\n",
    "plt.subplot(2,3,3)\n",
    "plt.imshow(cv2.cvtColor(img2, cv2.COLOR_BGR2RGB))\n",
    "plt.title(\"Imagem original\")\n",
    "plt.subplot(2,3,4)\n",
    "plt.imshow(canecas2, cmap=\"gray\")\n",
    "plt.title(\"Canecas segmentadas\")\n",
    "plt.subplot(2,3,5)\n",
    "plt.imshow(cv2.cvtColor(img3, cv2.COLOR_BGR2RGB))\n",
    "plt.title(\"Imagem original\")\n",
    "plt.subplot(2,3,6)\n",
    "plt.imshow(canecas3, cmap=\"gray\")\n",
    "plt.title(\"Canecas segmentadas\")\n",
    "plt.show()\n",
    "\n",
    "plt.subplot(2,3,1)\n",
    "plt.imshow(cv2"
   ]
  }
 ],
 "metadata": {
  "kernelspec": {
   "display_name": "Python 3 (ipykernel)",
   "language": "python",
   "name": "python3"
  },
  "language_info": {
   "codemirror_mode": {
    "name": "ipython",
    "version": 3
   },
   "file_extension": ".py",
   "mimetype": "text/x-python",
   "name": "python",
   "nbconvert_exporter": "python",
   "pygments_lexer": "ipython3",
   "version": "3.10.9"
  }
 },
 "nbformat": 4,
 "nbformat_minor": 5
}
