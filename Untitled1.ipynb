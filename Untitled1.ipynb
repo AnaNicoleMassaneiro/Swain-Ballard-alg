{
 "cells": [
  {
   "cell_type": "code",
   "execution_count": 15,
   "id": "9190b0dc",
   "metadata": {},
   "outputs": [],
   "source": [
    "import numpy as np\n",
    "import cv2 as cv\n",
    "import glob\n",
    "import os"
   ]
  },
  {
   "cell_type": "code",
   "execution_count": 18,
   "id": "4bfc70a9",
   "metadata": {},
   "outputs": [],
   "source": [
    "def swain_ballard(roi_path, target_path):\n",
    "    roi = cv.imread(roi_path)\n",
    "    hsv = cv.cvtColor(roi,cv.COLOR_BGR2HSV)\n",
    "    target = cv.imread(target_path)\n",
    "    hsvt = cv.cvtColor(target,cv.COLOR_BGR2HSV)\n",
    "    # calculating object histogram\n",
    "    roihist = cv.calcHist([hsv],[0, 1], None, [180, 256], [0, 180, 0, 256] )\n",
    "    # normalize histogram and apply backprojection\n",
    "    cv.normalize(roihist,roihist,0,255,cv.NORM_MINMAX)\n",
    "    dst = cv.calcBackProject([hsvt],[0,1],roihist,[0,180,0,256],1)\n",
    "    # Now convolute with circular disc\n",
    "    disc = cv.getStructuringElement(cv.MORPH_ELLIPSE,(5,5))\n",
    "    cv.filter2D(dst,-1,disc,dst)\n",
    "    # threshold and binary AND\n",
    "    ret,thresh = cv.threshold(dst,50,255,0)\n",
    "    thresh = cv.merge((thresh,thresh,thresh))\n",
    "    res = cv.bitwise_and(target,thresh)\n",
    "    res = np.vstack((target,thresh,res))\n",
    "    cv.imwrite(roi_path.replace(\"imagens\", \"resultados\"),res)"
   ]
  },
  {
   "cell_type": "code",
   "execution_count": 21,
   "id": "2a5f135b",
   "metadata": {},
   "outputs": [
    {
     "name": "stdout",
     "output_type": "stream",
     "text": [
      "['imagens\\\\caneca1.jpeg', 'imagens\\\\caneca2.jpeg', 'imagens\\\\caneca3.jpeg', 'imagens\\\\caneca4.jpeg', 'imagens\\\\caneca5.jpeg', 'imagens\\\\caneca6.jpeg', 'imagens\\\\caneca7.jpeg', 'imagens\\\\caneca8.jpeg']\n"
     ]
    }
   ],
   "source": [
    "images = glob.glob('imagens/*.jpeg')\n",
    "print(images)"
   ]
  },
  {
   "cell_type": "code",
   "execution_count": 25,
   "id": "a35c6b4d",
   "metadata": {},
   "outputs": [],
   "source": [
    "swain_ballard(\"imagens/caneca_1.jpg\", images[5])"
   ]
  },
  {
   "cell_type": "code",
   "execution_count": null,
   "id": "45515db7",
   "metadata": {},
   "outputs": [],
   "source": []
  }
 ],
 "metadata": {
  "kernelspec": {
   "display_name": "Python 3 (ipykernel)",
   "language": "python",
   "name": "python3"
  },
  "language_info": {
   "codemirror_mode": {
    "name": "ipython",
    "version": 3
   },
   "file_extension": ".py",
   "mimetype": "text/x-python",
   "name": "python",
   "nbconvert_exporter": "python",
   "pygments_lexer": "ipython3",
   "version": "3.10.5"
  }
 },
 "nbformat": 4,
 "nbformat_minor": 5
}
