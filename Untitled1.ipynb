{
 "cells": [
  {
   "cell_type": "code",
   "execution_count": 5,
   "id": "9190b0dc",
   "metadata": {},
   "outputs": [
    {
     "data": {
      "text/plain": [
       "True"
      ]
     },
     "execution_count": 5,
     "metadata": {},
     "output_type": "execute_result"
    }
   ],
   "source": [
    "import numpy as np\n",
    "import cv2 as cv\n",
    "roi = cv.imread('caneca_1.jpg')\n",
    "assert roi is not None, \"file could not be read, check with os.path.exists()\"\n",
    "hsv = cv.cvtColor(roi,cv.COLOR_BGR2HSV)\n",
    "target = cv.imread('caneca6.jpeg')\n",
    "assert target is not None, \"file could not be read, check with os.path.exists()\"\n",
    "hsvt = cv.cvtColor(target,cv.COLOR_BGR2HSV)\n",
    "# calculating object histogram\n",
    "roihist = cv.calcHist([hsv],[0, 1], None, [180, 256], [0, 180, 0, 256] )\n",
    "# normalize histogram and apply backprojection\n",
    "cv.normalize(roihist,roihist,0,255,cv.NORM_MINMAX)\n",
    "dst = cv.calcBackProject([hsvt],[0,1],roihist,[0,180,0,256],1)\n",
    "# Now convolute with circular disc\n",
    "disc = cv.getStructuringElement(cv.MORPH_ELLIPSE,(5,5))\n",
    "cv.filter2D(dst,-1,disc,dst)\n",
    "# threshold and binary AND\n",
    "ret,thresh = cv.threshold(dst,50,255,0)\n",
    "thresh = cv.merge((thresh,thresh,thresh))\n",
    "res = cv.bitwise_and(target,thresh)\n",
    "res = np.vstack((target,thresh,res))\n",
    "cv.imwrite('res1.jpg',res)"
   ]
  },
  {
   "cell_type": "code",
   "execution_count": 2,
   "id": "4bfc70a9",
   "metadata": {},
   "outputs": [
    {
     "ename": "NameError",
     "evalue": "name 'R' is not defined",
     "output_type": "error",
     "traceback": [
      "\u001b[1;31m---------------------------------------------------------------------------\u001b[0m",
      "\u001b[1;31mNameError\u001b[0m                                 Traceback (most recent call last)",
      "Cell \u001b[1;32mIn[2], line 2\u001b[0m\n\u001b[0;32m      1\u001b[0m h,s,v \u001b[38;5;241m=\u001b[39m cv\u001b[38;5;241m.\u001b[39msplit(hsvt)\n\u001b[1;32m----> 2\u001b[0m B \u001b[38;5;241m=\u001b[39m \u001b[43mR\u001b[49m[h\u001b[38;5;241m.\u001b[39mravel(),s\u001b[38;5;241m.\u001b[39mravel()]\n\u001b[0;32m      3\u001b[0m B \u001b[38;5;241m=\u001b[39m np\u001b[38;5;241m.\u001b[39mminimum(B,\u001b[38;5;241m1\u001b[39m)\n\u001b[0;32m      4\u001b[0m B \u001b[38;5;241m=\u001b[39m B\u001b[38;5;241m.\u001b[39mreshape(hsvt\u001b[38;5;241m.\u001b[39mshape[:\u001b[38;5;241m2\u001b[39m])\n",
      "\u001b[1;31mNameError\u001b[0m: name 'R' is not defined"
     ]
    }
   ],
   "source": []
  },
  {
   "cell_type": "code",
   "execution_count": null,
   "id": "2a5f135b",
   "metadata": {},
   "outputs": [],
   "source": []
  }
 ],
 "metadata": {
  "kernelspec": {
   "display_name": "Python 3 (ipykernel)",
   "language": "python",
   "name": "python3"
  },
  "language_info": {
   "codemirror_mode": {
    "name": "ipython",
    "version": 3
   },
   "file_extension": ".py",
   "mimetype": "text/x-python",
   "name": "python",
   "nbconvert_exporter": "python",
   "pygments_lexer": "ipython3",
   "version": "3.10.5"
  }
 },
 "nbformat": 4,
 "nbformat_minor": 5
}
